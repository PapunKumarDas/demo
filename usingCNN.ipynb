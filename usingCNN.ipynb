{
 "cells": [
  {
   "cell_type": "code",
   "execution_count": 1,
   "id": "c34cd9db",
   "metadata": {},
   "outputs": [],
   "source": [
    "import numpy as np\n",
    "import pandas as pd\n",
    "from pathlib import Path\n",
    "import os.path\n",
    "\n",
    "import matplotlib.pyplot as plt\n",
    "import seaborn as sns\n",
    "\n",
    "from sklearn.model_selection import train_test_split\n",
    "\n",
    "import tensorflow as tf\n",
    "\n",
    "from sklearn.metrics import confusion_matrix, classification_report"
   ]
  },
  {
   "cell_type": "code",
   "execution_count": null,
   "id": "e0491e03",
   "metadata": {},
   "outputs": [],
   "source": []
  },
  {
   "cell_type": "code",
   "execution_count": 2,
   "id": "c2e9b3a4",
   "metadata": {},
   "outputs": [],
   "source": [
    "image_dir = Path('dataset')"
   ]
  },
  {
   "cell_type": "code",
   "execution_count": 5,
   "id": "d02b7979",
   "metadata": {},
   "outputs": [],
   "source": [
    "filepaths = list(image_dir.glob(r'**/*.png'))\n",
    "labels = list(map(lambda x: os.path.split(os.path.split(x)[0])[1], filepaths))\n",
    "\n",
    "filepaths = pd.Series(filepaths, name='Filepath').astype(str)\n",
    "labels = pd.Series(labels, name='Label')\n",
    "\n",
    "\n",
    "image_df = pd.concat([filepaths, labels], axis=1)\n"
   ]
  },
  {
   "cell_type": "code",
   "execution_count": 6,
   "id": "4b691cc2",
   "metadata": {},
   "outputs": [
    {
     "data": {
      "text/plain": [
       "0            COVID\n",
       "1            COVID\n",
       "2            COVID\n",
       "3            COVID\n",
       "4            COVID\n",
       "           ...    \n",
       "15148    Pneumonia\n",
       "15149    Pneumonia\n",
       "15150    Pneumonia\n",
       "15151    Pneumonia\n",
       "15152    Pneumonia\n",
       "Name: Label, Length: 15153, dtype: object"
      ]
     },
     "execution_count": 6,
     "metadata": {},
     "output_type": "execute_result"
    }
   ],
   "source": [
    "labels"
   ]
  },
  {
   "cell_type": "code",
   "execution_count": 7,
   "id": "bca0f4dc",
   "metadata": {},
   "outputs": [
    {
     "data": {
      "text/html": [
       "<div>\n",
       "<style scoped>\n",
       "    .dataframe tbody tr th:only-of-type {\n",
       "        vertical-align: middle;\n",
       "    }\n",
       "\n",
       "    .dataframe tbody tr th {\n",
       "        vertical-align: top;\n",
       "    }\n",
       "\n",
       "    .dataframe thead th {\n",
       "        text-align: right;\n",
       "    }\n",
       "</style>\n",
       "<table border=\"1\" class=\"dataframe\">\n",
       "  <thead>\n",
       "    <tr style=\"text-align: right;\">\n",
       "      <th></th>\n",
       "      <th>Filepath</th>\n",
       "      <th>Label</th>\n",
       "    </tr>\n",
       "  </thead>\n",
       "  <tbody>\n",
       "    <tr>\n",
       "      <th>0</th>\n",
       "      <td>dataset\\COVID\\COVID-1.png</td>\n",
       "      <td>COVID</td>\n",
       "    </tr>\n",
       "    <tr>\n",
       "      <th>1</th>\n",
       "      <td>dataset\\COVID\\COVID-10.png</td>\n",
       "      <td>COVID</td>\n",
       "    </tr>\n",
       "    <tr>\n",
       "      <th>2</th>\n",
       "      <td>dataset\\COVID\\COVID-100.png</td>\n",
       "      <td>COVID</td>\n",
       "    </tr>\n",
       "    <tr>\n",
       "      <th>3</th>\n",
       "      <td>dataset\\COVID\\COVID-1000.png</td>\n",
       "      <td>COVID</td>\n",
       "    </tr>\n",
       "    <tr>\n",
       "      <th>4</th>\n",
       "      <td>dataset\\COVID\\COVID-1001.png</td>\n",
       "      <td>COVID</td>\n",
       "    </tr>\n",
       "    <tr>\n",
       "      <th>...</th>\n",
       "      <td>...</td>\n",
       "      <td>...</td>\n",
       "    </tr>\n",
       "    <tr>\n",
       "      <th>15148</th>\n",
       "      <td>dataset\\Pneumonia\\Viral Pneumonia-995.png</td>\n",
       "      <td>Pneumonia</td>\n",
       "    </tr>\n",
       "    <tr>\n",
       "      <th>15149</th>\n",
       "      <td>dataset\\Pneumonia\\Viral Pneumonia-996.png</td>\n",
       "      <td>Pneumonia</td>\n",
       "    </tr>\n",
       "    <tr>\n",
       "      <th>15150</th>\n",
       "      <td>dataset\\Pneumonia\\Viral Pneumonia-997.png</td>\n",
       "      <td>Pneumonia</td>\n",
       "    </tr>\n",
       "    <tr>\n",
       "      <th>15151</th>\n",
       "      <td>dataset\\Pneumonia\\Viral Pneumonia-998.png</td>\n",
       "      <td>Pneumonia</td>\n",
       "    </tr>\n",
       "    <tr>\n",
       "      <th>15152</th>\n",
       "      <td>dataset\\Pneumonia\\Viral Pneumonia-999.png</td>\n",
       "      <td>Pneumonia</td>\n",
       "    </tr>\n",
       "  </tbody>\n",
       "</table>\n",
       "<p>15153 rows × 2 columns</p>\n",
       "</div>"
      ],
      "text/plain": [
       "                                        Filepath      Label\n",
       "0                      dataset\\COVID\\COVID-1.png      COVID\n",
       "1                     dataset\\COVID\\COVID-10.png      COVID\n",
       "2                    dataset\\COVID\\COVID-100.png      COVID\n",
       "3                   dataset\\COVID\\COVID-1000.png      COVID\n",
       "4                   dataset\\COVID\\COVID-1001.png      COVID\n",
       "...                                          ...        ...\n",
       "15148  dataset\\Pneumonia\\Viral Pneumonia-995.png  Pneumonia\n",
       "15149  dataset\\Pneumonia\\Viral Pneumonia-996.png  Pneumonia\n",
       "15150  dataset\\Pneumonia\\Viral Pneumonia-997.png  Pneumonia\n",
       "15151  dataset\\Pneumonia\\Viral Pneumonia-998.png  Pneumonia\n",
       "15152  dataset\\Pneumonia\\Viral Pneumonia-999.png  Pneumonia\n",
       "\n",
       "[15153 rows x 2 columns]"
      ]
     },
     "execution_count": 7,
     "metadata": {},
     "output_type": "execute_result"
    }
   ],
   "source": [
    "image_df"
   ]
  },
  {
   "cell_type": "code",
   "execution_count": 6,
   "id": "7dec4331",
   "metadata": {},
   "outputs": [
    {
     "name": "stderr",
     "output_type": "stream",
     "text": [
      "C:\\Users\\user\\AppData\\Local\\Programs\\Python\\Python37\\lib\\site-packages\\sklearn\\model_selection\\_split.py:2179: FutureWarning: From version 0.21, test_size will always complement train_size unless both are specified.\n",
      "  FutureWarning)\n"
     ]
    }
   ],
   "source": [
    "train_df, test_df = train_test_split(image_df, train_size=0.75, shuffle=True, random_state=1)"
   ]
  },
  {
   "cell_type": "code",
   "execution_count": 7,
   "id": "076121e2",
   "metadata": {},
   "outputs": [],
   "source": [
    "train_generator = tf.keras.preprocessing.image.ImageDataGenerator(\n",
    "    rescale=1./255,\n",
    "    horizontal_flip=True,\n",
    "    width_shift_range=0.2,\n",
    "    height_shift_range=0.2,\n",
    "    validation_split=0.2\n",
    ")\n",
    "\n",
    "test_generator = tf.keras.preprocessing.image.ImageDataGenerator(\n",
    "    rescale=1./255\n",
    ")"
   ]
  },
  {
   "cell_type": "code",
   "execution_count": 11,
   "id": "1e9daaed",
   "metadata": {},
   "outputs": [
    {
     "name": "stdout",
     "output_type": "stream",
     "text": [
      "Found 8285 validated image filenames belonging to 2 classes.\n",
      "Found 3452 validated image filenames belonging to 2 classes.\n"
     ]
    }
   ],
   "source": [
    "train_images = train_generator.flow_from_dataframe(\n",
    "    dataframe=train_df,\n",
    "    x_col='Filepath',\n",
    "    y_col='Label',\n",
    "    target_size=(64,64),\n",
    "    color_mode='rgb',\n",
    "    class_mode='binary',\n",
    "    batch_size=32,\n",
    "    shuffle=True,\n",
    "    seed=42,\n",
    "    subset='training'\n",
    ")\n",
    "\n",
    "\n",
    "\n",
    "test_images = test_generator.flow_from_dataframe(\n",
    "    dataframe=test_df,\n",
    "    x_col='Filepath',\n",
    "    y_col='Label',\n",
    "    target_size=(64,64),\n",
    "    color_mode='rgb',\n",
    "    class_mode='binary',\n",
    "    batch_size=32,\n",
    "    shuffle=False\n",
    ")"
   ]
  },
  {
   "cell_type": "code",
   "execution_count": 18,
   "metadata": {},
   "outputs": [
    {
     "name": "stdout",
     "output_type": "stream",
     "text": [
      "Epoch 1/100\n",
      "259/259 [==============================] - 93s 361ms/step - loss: 0.5465 - accuracy: 0.7380 - val_loss: 0.4876 - val_accuracy: 0.7378 - lr: 0.0010\n",
      "Epoch 2/100\n",
      "259/259 [==============================] - 44s 171ms/step - loss: 0.4638 - accuracy: 0.7785 - val_loss: 0.4318 - val_accuracy: 0.7972 - lr: 0.0010\n",
      "Epoch 3/100\n",
      "259/259 [==============================] - 46s 177ms/step - loss: 0.4365 - accuracy: 0.7987 - val_loss: 0.4422 - val_accuracy: 0.7972 - lr: 0.0010\n",
      "Epoch 4/100\n",
      "259/259 [==============================] - 44s 172ms/step - loss: 0.4184 - accuracy: 0.8081 - val_loss: 0.3962 - val_accuracy: 0.8285 - lr: 0.0010\n",
      "Epoch 5/100\n",
      "259/259 [==============================] - 47s 180ms/step - loss: 0.4059 - accuracy: 0.8197 - val_loss: 0.3908 - val_accuracy: 0.8329 - lr: 0.0010\n",
      "Epoch 6/100\n",
      "259/259 [==============================] - 47s 180ms/step - loss: 0.3757 - accuracy: 0.8331 - val_loss: 0.3351 - val_accuracy: 0.8488 - lr: 0.0010\n",
      "Epoch 7/100\n",
      "259/259 [==============================] - 46s 179ms/step - loss: 0.3473 - accuracy: 0.8511 - val_loss: 0.3544 - val_accuracy: 0.8537 - lr: 0.0010\n",
      "Epoch 8/100\n",
      "259/259 [==============================] - 47s 181ms/step - loss: 0.3282 - accuracy: 0.8556 - val_loss: 0.3061 - val_accuracy: 0.8653 - lr: 0.0010\n",
      "Epoch 9/100\n",
      "259/259 [==============================] - 47s 183ms/step - loss: 0.3089 - accuracy: 0.8669 - val_loss: 0.3143 - val_accuracy: 0.8650 - lr: 0.0010\n",
      "Epoch 10/100\n",
      "259/259 [==============================] - 46s 179ms/step - loss: 0.3035 - accuracy: 0.8718 - val_loss: 0.2960 - val_accuracy: 0.8728 - lr: 0.0010\n",
      "Epoch 11/100\n",
      "259/259 [==============================] - 46s 177ms/step - loss: 0.2764 - accuracy: 0.8844 - val_loss: 0.2660 - val_accuracy: 0.8931 - lr: 0.0010\n",
      "Epoch 12/100\n",
      "259/259 [==============================] - 46s 179ms/step - loss: 0.2671 - accuracy: 0.8902 - val_loss: 0.2660 - val_accuracy: 0.8795 - lr: 0.0010\n",
      "Epoch 13/100\n",
      "259/259 [==============================] - 46s 179ms/step - loss: 0.2593 - accuracy: 0.8904 - val_loss: 0.2105 - val_accuracy: 0.9114 - lr: 0.0010\n",
      "Epoch 14/100\n",
      "259/259 [==============================] - 47s 181ms/step - loss: 0.2390 - accuracy: 0.9032 - val_loss: 0.2568 - val_accuracy: 0.8928 - lr: 0.0010\n",
      "Epoch 15/100\n",
      "259/259 [==============================] - 75s 288ms/step - loss: 0.2341 - accuracy: 0.9056 - val_loss: 0.2079 - val_accuracy: 0.9174 - lr: 0.0010\n",
      "Epoch 16/100\n",
      "259/259 [==============================] - 83s 322ms/step - loss: 0.2299 - accuracy: 0.9062 - val_loss: 0.2545 - val_accuracy: 0.8899 - lr: 0.0010\n",
      "Epoch 17/100\n",
      "259/259 [==============================] - 47s 180ms/step - loss: 0.2292 - accuracy: 0.9066 - val_loss: 0.2502 - val_accuracy: 0.8995 - lr: 0.0010\n",
      "Epoch 18/100\n",
      "259/259 [==============================] - 46s 178ms/step - loss: 0.2122 - accuracy: 0.9136 - val_loss: 0.2198 - val_accuracy: 0.9070 - lr: 0.0010\n",
      "Epoch 19/100\n",
      "259/259 [==============================] - 46s 179ms/step - loss: 0.1780 - accuracy: 0.9270 - val_loss: 0.1620 - val_accuracy: 0.9273 - lr: 1.0000e-04\n",
      "Epoch 20/100\n",
      "259/259 [==============================] - 47s 180ms/step - loss: 0.1624 - accuracy: 0.9348 - val_loss: 0.1790 - val_accuracy: 0.9270 - lr: 1.0000e-04\n",
      "Epoch 21/100\n",
      "259/259 [==============================] - 47s 180ms/step - loss: 0.1615 - accuracy: 0.9360 - val_loss: 0.1613 - val_accuracy: 0.9322 - lr: 1.0000e-04\n",
      "Epoch 22/100\n",
      "259/259 [==============================] - 46s 179ms/step - loss: 0.1648 - accuracy: 0.9330 - val_loss: 0.1596 - val_accuracy: 0.9345 - lr: 1.0000e-04\n",
      "Epoch 23/100\n",
      "259/259 [==============================] - 46s 179ms/step - loss: 0.1588 - accuracy: 0.9388 - val_loss: 0.1649 - val_accuracy: 0.9311 - lr: 1.0000e-04\n",
      "Epoch 24/100\n",
      "259/259 [==============================] - 46s 179ms/step - loss: 0.1493 - accuracy: 0.9404 - val_loss: 0.1517 - val_accuracy: 0.9380 - lr: 1.0000e-04\n",
      "Epoch 25/100\n",
      "259/259 [==============================] - 47s 180ms/step - loss: 0.1457 - accuracy: 0.9448 - val_loss: 0.1518 - val_accuracy: 0.9383 - lr: 1.0000e-04\n",
      "Epoch 26/100\n",
      "259/259 [==============================] - 38s 148ms/step - loss: 0.1435 - accuracy: 0.9464 - val_loss: 0.1732 - val_accuracy: 0.9334 - lr: 1.0000e-04\n",
      "Epoch 27/100\n",
      "259/259 [==============================] - 32s 124ms/step - loss: 0.1482 - accuracy: 0.9399 - val_loss: 0.1653 - val_accuracy: 0.9325 - lr: 1.0000e-04\n",
      "Epoch 28/100\n",
      "259/259 [==============================] - 32s 125ms/step - loss: 0.1400 - accuracy: 0.9438 - val_loss: 0.1583 - val_accuracy: 0.9360 - lr: 1.0000e-05\n",
      "Epoch 29/100\n",
      "259/259 [==============================] - 33s 127ms/step - loss: 0.1340 - accuracy: 0.9486 - val_loss: 0.1546 - val_accuracy: 0.9389 - lr: 1.0000e-05\n"
     ]
    }
   ],
   "source": [
    "inputs = tf.keras.Input(shape=(64, 64, 3))\n",
    "x = tf.keras.layers.Conv2D(filters=16, kernel_size=(3, 3), activation='relu')(inputs)\n",
    "x = tf.keras.layers.MaxPool2D()(x)\n",
    "x = tf.keras.layers.Conv2D(filters=32, kernel_size=(3, 3), activation='relu')(x)\n",
    "x = tf.keras.layers.MaxPool2D()(x)\n",
    "\n",
    "x = tf.keras.layers.Conv2D(filters=64, kernel_size=(3, 3), activation='relu')(x)\n",
    "x = tf.keras.layers.MaxPool2D()(x)\n",
    "\n",
    "x = tf.keras.layers.Conv2D(filters=128, kernel_size=(3, 3), activation='relu')(x)\n",
    "x = tf.keras.layers.MaxPool2D()(x)\n",
    "\n",
    "\n",
    "\n",
    "\n",
    "\n",
    "\n",
    "x = tf.keras.layers.GlobalAveragePooling2D()(x)\n",
    "x = tf.keras.layers.Dense(128, activation='relu')(x)\n",
    "x = tf.keras.layers.Dense(128, activation='relu')(x)\n",
    "outputs = tf.keras.layers.Dense(1, activation='sigmoid')(x)\n",
    "\n",
    "model = tf.keras.Model(inputs=inputs, outputs=outputs)\n",
    "\n",
    "model.compile(\n",
    "    optimizer='adam',\n",
    "    loss='binary_crossentropy',\n",
    "    metrics=['accuracy']\n",
    ")\n",
    "\n",
    "history = model.fit(\n",
    "    train_images,\n",
    "    validation_data=test_images,\n",
    "    epochs=100,\n",
    "    callbacks=[\n",
    "        tf.keras.callbacks.EarlyStopping(\n",
    "            monitor='val_loss',\n",
    "            patience=5,\n",
    "            restore_best_weights=True\n",
    "        ),\n",
    "        tf.keras.callbacks.ReduceLROnPlateau(\n",
    "            monitor='val_loss',\n",
    "            patience=3\n",
    "        )\n",
    "    ]\n",
    ")"
   ]
  },
  {
   "cell_type": "code",
   "execution_count": 28,
   "id": "b3ecc7fa",
   "metadata": {},
   "outputs": [
    {
     "name": "stdout",
     "output_type": "stream",
     "text": [
      "108/108 [==============================] - 6s 55ms/step - loss: 0.1517 - accuracy: 0.9380\n",
      "Test Accuracy: 93.80%\n",
      "259/259 [==============================] - 23s 89ms/step - loss: 0.1503 - accuracy: 0.9416\n",
      "Train Accuracy: 94.16%\n"
     ]
    }
   ],
   "source": [
    "evaluation = model.evaluate(test_images)\n",
    "print(f\"Test Accuracy: {evaluation[1] * 100:.2f}%\")\n",
    "\n",
    "evaluation = model.evaluate(train_images)\n",
    "print(f\"Train Accuracy: {evaluation[1] * 100:.2f}%\")"
   ]
  },
  {
   "cell_type": "code",
   "execution_count": 26,
   "id": "1c0e6c64",
   "metadata": {},
   "outputs": [
    {
     "data": {
      "image/png": "[encoded data removed]",
      "text/plain": [
       "<Figure size 432x288 with 1 Axes>"
      ]
     },
     "metadata": {
      "needs_background": "light"
     },
     "output_type": "display_data"
    },
    {
     "data": {
      "image/png": "[encoded data removed]",
      "text/plain": [
       "<Figure size 432x288 with 1 Axes>"
      ]
     },
     "metadata": {
      "needs_background": "light"
     },
     "output_type": "display_data"
    }
   ],
   "source": [
    "from matplotlib import pyplot as plt\n",
    "\n",
    "plt.plot(history.history['loss'],'r',label='training loss')\n",
    "plt.plot(history.history['val_loss'],label='validation loss')\n",
    "plt.xlabel('# epochs')\n",
    "plt.ylabel('loss')\n",
    "plt.legend()\n",
    "plt.show()\n",
    "\n",
    "plt.plot(history.history['accuracy'],'r',label='training accuracy')\n",
    "plt.plot(history.history['val_accuracy'],label='validation accuracy')\n",
    "plt.xlabel('# epochs')\n",
    "plt.ylabel('loss')\n",
    "plt.legend()\n",
    "plt.show()"
   ]
  },
  {
   "cell_type": "code",
   "execution_count": null,
   "id": "5c28c6d8",
   "metadata": {},
   "outputs": [],
   "source": []
  },
  {
   "cell_type": "code",
   "execution_count": 24,
   "id": "cd5bacfa",
   "metadata": {},
   "outputs": [
    {
     "name": "stderr",
     "output_type": "stream",
     "text": [
      "C:\\Users\\user\\AppData\\Local\\Programs\\Python\\Python37\\lib\\site-packages\\ipykernel_launcher.py:1: DeprecationWarning: `np.int` is a deprecated alias for the builtin `int`. To silence this warning, use `int` by itself. Doing this will not modify any behavior and is safe. When replacing `np.int`, you may wish to use e.g. `np.int64` or `np.int32` to specify the precision. If you wish to review your current use, check the release note link for additional information.\n",
      "Deprecated in NumPy 1.20; for more details and guidance: https://numpy.org/devdocs/release/1.20.0-notes.html#deprecations\n",
      "  \"\"\"Entry point for launching an IPython kernel.\n"
     ]
    },
    {
     "data": {
      "image/png": "[encoded data removed]",
      "text/plain": [
       "<Figure size 432x432 with 1 Axes>"
      ]
     },
     "metadata": {
      "needs_background": "light"
     },
     "output_type": "display_data"
    },
    {
     "name": "stdout",
     "output_type": "stream",
     "text": [
      "Classification Report:\n",
      "----------------------\n",
      "                  precision    recall  f1-score   support\n",
      "\n",
      "Covid Positive        0.94      0.98      0.96      2547\n",
      " Covid Negative       0.94      0.82      0.87       905\n",
      "\n",
      "      micro avg       0.94      0.94      0.94      3452\n",
      "      macro avg       0.94      0.90      0.92      3452\n",
      "   weighted avg       0.94      0.94      0.94      3452\n",
      "\n"
     ]
    }
   ],
   "source": [
    "predictions = (model.predict(test_images) >= 0.5).astype(np.int)\n",
    "\n",
    "cm = confusion_matrix(test_images.labels, predictions, labels=[0, 1])\n",
    "clr = classification_report(test_images.labels, predictions, labels=[0, 1], target_names=[\"Covid Positive \", \"Covid Negative\"])\n",
    "\n",
    "plt.figure(figsize=(6, 6))\n",
    "sns.heatmap(cm, annot=True, fmt='g', vmin=0, cmap='Blues', cbar=False)\n",
    "plt.xticks(ticks=[0.5, 1.5], labels=[\"Covid Positive \", \"Covid Negative\"])\n",
    "plt.yticks(ticks=[0.5, 1.5], labels=[\"Covid Positive\", \"Covid Negative\"])\n",
    "plt.xlabel(\"Predicted\")\n",
    "plt.ylabel(\"Actual\")\n",
    "plt.title(\"Confusion Matrix\")\n",
    "plt.show()\n",
    "\n",
    "print(\"Classification Report:\\n----------------------\\n\", clr)\n"
   ]
  },
  {
   "cell_type": "code",
   "execution_count": 25,
   "id": "8be6dde8",
   "metadata": {},
   "outputs": [],
   "source": [
    "from tensorflow.keras.models import load_model\n",
    "\n",
    "model.save('xraymodel.h5')\n",
    "from tensorflow.keras.models import load_model\n",
    " \n",
    "# load model\n",
    "# model = load_model('model_rcat_dog.h5')"
   ]
  }
 ],
 "metadata": {
  "kernelspec": {
   "display_name": "Python 3 (ipykernel)",
   "language": "python",
   "name": "python3"
  },
  "language_info": {
   "codemirror_mode": {
    "name": "ipython",
    "version": 3
   },
   "file_extension": ".py",
   "mimetype": "text/x-python",
   "name": "python",
   "nbconvert_exporter": "python",
   "pygments_lexer": "ipython3",
   "version": "3.7.9"
  }
 },
 "nbformat": 4,
 "nbformat_minor": 5
}
