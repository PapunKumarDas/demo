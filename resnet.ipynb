{
 "cells": [
  {
   "cell_type": "code",
   "execution_count": 4,
   "metadata": {},
   "outputs": [
    {
     "name": "stderr",
     "output_type": "stream",
     "text": [
      "Using TensorFlow backend.\n"
     ]
    },
    {
     "data": {
      "text/plain": [
       "['Test', 'Train']"
      ]
     },
     "execution_count": 4,
     "metadata": {},
     "output_type": "execute_result"
    }
   ],
   "source": [
    "import os\n",
    "import numpy as np\n",
    "import pandas as pd \n",
    "import matplotlib.pyplot as plt\n",
    "import seaborn as sns\n",
    "import tensorflow as tf\n",
    "from tensorflow import keras\n",
    "from keras.models import Sequential\n",
    "from keras.layers import Dense, Conv2D, MaxPool2D, Dropout, Flatten, BatchNormalization\n",
    "from keras.layers import GlobalAveragePooling2D\n",
    "\n",
    "os.listdir(\"dataset\")"
   ]
  },
  {
   "cell_type": "code",
   "execution_count": 6,
   "metadata": {},
   "outputs": [
    {
     "data": {
      "text/plain": [
       "2532"
      ]
     },
     "execution_count": 6,
     "metadata": {},
     "output_type": "execute_result"
    }
   ],
   "source": [
    "len(os.listdir(\"dataset/Train/Covid19 Positive\"))"
   ]
  },
  {
   "cell_type": "code",
   "execution_count": 7,
   "metadata": {},
   "outputs": [
    {
     "name": "stdout",
     "output_type": "stream",
     "text": [
      "Train set:\n",
      "========================================\n",
      "Covid19 Positive=2532\n",
      "Covid19 Negative=7135\n",
      "Pneumonia=1032\n",
      "Test set:\n",
      "========================================\n",
      "Covid19 Positive=1084\n",
      "Covid19 Negative=3057\n",
      "Pneumonia=313\n"
     ]
    }
   ],
   "source": [
    "train_dir = \"dataset/Train\"\n",
    "test_dir = \"dataset/Test\"\n",
    "\n",
    "\n",
    "print(\"Train set:\\n========================================\")\n",
    "num_Covid19_Positive = len(os.listdir(os.path.join(train_dir, 'Covid19 Positive')))\n",
    "num_Covid19_Negative = len(os.listdir(os.path.join(train_dir, 'Covid19 Negative')))\n",
    "Pneumonia = len(os.listdir(os.path.join(train_dir, 'Pneumonia')))\n",
    "print(f\"Covid19 Positive={num_Covid19_Positive}\")\n",
    "print(f\"Covid19 Negative={num_Covid19_Negative}\")\n",
    "print(f\"Pneumonia={Pneumonia}\")\n",
    "\n",
    "print(\"Test set:\\n========================================\")\n",
    "print(f\"Covid19 Positive={len(os.listdir(os.path.join(test_dir, 'Covid19 Positive')))}\")\n",
    "print(f\"Covid19 Negative={len(os.listdir(os.path.join(test_dir, 'Covid19 Negative')))}\")\n",
    "\n",
    "print(f\"Pneumonia={len(os.listdir(os.path.join(test_dir, 'Pneumonia')))}\")\n",
    "\n"
   ]
  },
  {
   "cell_type": "code",
   "execution_count": 8,
   "metadata": {},
   "outputs": [
    {
     "data": {
      "text/plain": [
       "Text(0.5, 1.0, 'Test Data')"
      ]
     },
     "execution_count": 8,
     "metadata": {},
     "output_type": "execute_result"
    },
    {
     "data": {
      "image/png": "[encoded data removed]",
      "text/plain": [
       "<Figure size 432x288 with 1 Axes>"
      ]
     },
     "metadata": {
      "needs_background": "light"
     },
     "output_type": "display_data"
    }
   ],
   "source": [
    "import seaborn as sns\n",
    "my_dict = {'Covid19 Positive':'2531', 'Covid19 Negative' : '7134', 'Pneumonia' : '943'}\n",
    "\n",
    "perc =  [float(i[:-1]) for i in my_dict.values()]\n",
    "sns.barplot(x=list(my_dict.keys()),y=perc)\n",
    "plt.title('Train Data')\n",
    "\n",
    "import seaborn as sns\n",
    "my_dict = {'Covid19 Positive':'1085', 'Covid19 Negative' : '3058', 'Pneumonia' : '402'}\n",
    "\n",
    "perc =  [float(i[:-1]) for i in my_dict.values()]\n",
    "sns.barplot(x=list(my_dict.keys()),y=perc)\n",
    "plt.title('Test Data')\n"
   ]
  },
  {
   "cell_type": "code",
   "execution_count": 9,
   "metadata": {},
   "outputs": [
    {
     "data": {
      "image/png": "[encoded data removed]",
      "text/plain": [
       "<Figure size 432x288 with 1 Axes>"
      ]
     },
     "metadata": {
      "needs_background": "light"
     },
     "output_type": "display_data"
    }
   ],
   "source": [
    "\n",
    "import numpy as np \n",
    "import matplotlib.pyplot as plt \n",
    "  \n",
    "X = ['Covid19 Positive', 'Covid19 Negative', 'Pneumonia']\n",
    "Ygirls = [2531,7134,943]\n",
    "Zboys = [1085,3058,402]\n",
    "  \n",
    "X_axis = np.arange(len(X))\n",
    "  \n",
    "plt.bar(X_axis - 0.2, Ygirls, 0.4, label = 'Train')\n",
    "plt.bar(X_axis + 0.2, Zboys, 0.4, label = 'Test')\n",
    "  \n",
    "plt.xticks(X_axis, X)\n",
    "plt.xlabel(\"classes\")\n",
    "plt.ylabel(\"Number of X-ray\")\n",
    "plt.title(\"Dataset\")\n",
    "plt.legend()\n",
    "plt.show()"
   ]
  },
  {
   "cell_type": "code",
   "execution_count": 10,
   "metadata": {},
   "outputs": [],
   "source": [
    "from keras.preprocessing.image import ImageDataGenerator\n",
    "\n",
    "image_generator = ImageDataGenerator(\n",
    "    rotation_range=20,\n",
    "    width_shift_range=0.1,\n",
    "    shear_range=0.1,\n",
    "    zoom_range=0.1,\n",
    "    samplewise_center=True,\n",
    "    samplewise_std_normalization=True\n",
    ")"
   ]
  },
  {
   "cell_type": "code",
   "execution_count": 11,
   "metadata": {},
   "outputs": [
    {
     "name": "stdout",
     "output_type": "stream",
     "text": [
      "Found 10699 images belonging to 3 classes.\n",
      "Found 4454 images belonging to 3 classes.\n"
     ]
    }
   ],
   "source": [
    "train = image_generator.flow_from_directory(train_dir, \n",
    "                                            batch_size=8, \n",
    "                                            shuffle=True, \n",
    "                                            class_mode='categorical',\n",
    "                                            target_size=(64,64))\n",
    "\n",
    "\n",
    "\n",
    "test = image_generator.flow_from_directory(test_dir, \n",
    "                                            batch_size=1, \n",
    "                                            shuffle=False, \n",
    "                                            class_mode='categorical',\n",
    "                                            target_size=(64,64))"
   ]
  },
  {
   "cell_type": "code",
   "execution_count": 12,
   "metadata": {},
   "outputs": [],
   "source": [
    "import pandas as pd\n"
   ]
  },
  {
   "cell_type": "code",
   "execution_count": 13,
   "metadata": {},
   "outputs": [
    {
     "name": "stderr",
     "output_type": "stream",
     "text": [
      "Clipping input data to the valid range for imshow with RGB data ([0..1] for floats or [0..255] for integers).\n"
     ]
    },
    {
     "name": "stdout",
     "output_type": "stream",
     "text": [
      "The dimensions of the image are 64 pixels width and 64 pixels height, one single color channel.\n",
      "The maximum pixel value is 2.2844 and the minimum is -2.9935\n",
      "The mean value of the pixels is -0.0000 and the standard deviation is 1.0000\n"
     ]
    },
    {
     "data": {
      "image/png": "[encoded data removed]",
      "text/plain": [
       "<Figure size 432x288 with 2 Axes>"
      ]
     },
     "metadata": {},
     "output_type": "display_data"
    }
   ],
   "source": [
    "sns.set_style('white')\n",
    "generated_image, label = train.__getitem__(0)\n",
    "plt.imshow(generated_image[0], cmap='gray')\n",
    "plt.colorbar()\n",
    "plt.title('Raw Chest X Ray Image')\n",
    "\n",
    "print(f\"The dimensions of the image are {generated_image.shape[1]} pixels width and {generated_image.shape[2]} pixels height, one single color channel.\")\n",
    "print(f\"The maximum pixel value is {generated_image.max():.4f} and the minimum is {generated_image.min():.4f}\")\n",
    "print(f\"The mean value of the pixels is {generated_image.mean():.4f} and the standard deviation is {generated_image.std():.4f}\")"
   ]
  },
  {
   "cell_type": "code",
   "execution_count": 14,
   "metadata": {},
   "outputs": [
    {
     "name": "stdout",
     "output_type": "stream",
     "text": [
      "Weight for class 0: 0.26\n",
      "Weight for class 1: 0.74\n"
     ]
    }
   ],
   "source": [
    "# Class weights\n",
    "\n",
    "weight_for_0 = num_Covid19_Positive / (num_Covid19_Negative + num_Covid19_Positive)\n",
    "weight_for_1 = num_Covid19_Negative / (num_Covid19_Negative + num_Covid19_Positive)\n",
    "\n",
    "class_weight = {0: weight_for_0, 1: weight_for_1}\n",
    "\n",
    "print(f\"Weight for class 0: {weight_for_0:.2f}\")\n",
    "print(f\"Weight for class 1: {weight_for_1:.2f}\")"
   ]
  },
  {
   "cell_type": "code",
   "execution_count": 3,
   "metadata": {},
   "outputs": [],
   "source": [
    "# ResNet\n"
   ]
  },
  {
   "cell_type": "code",
   "execution_count": 18,
   "metadata": {},
   "outputs": [],
   "source": [
    "from keras.applications import ResNet50\n",
    "\n",
    "resnet_base_model = ResNet50(input_shape=(64,64,3), include_top=False, weights='imagenet')\n",
    "\n"
   ]
  },
  {
   "cell_type": "code",
   "execution_count": null,
   "metadata": {},
   "outputs": [],
   "source": [
    "resnet_base_model.summary()"
   ]
  },
  {
   "cell_type": "code",
   "execution_count": 21,
   "metadata": {},
   "outputs": [],
   "source": [
    "resnet_model = Sequential([\n",
    "        resnet_base_model,\n",
    "        GlobalAveragePooling2D(),\n",
    "        Dense(512, activation=\"relu\"),\n",
    "        BatchNormalization(),\n",
    "        Dropout(0.6),\n",
    "        Dense(128, activation=\"relu\"),\n",
    "        BatchNormalization(),\n",
    "        Dropout(0.4),\n",
    "        Dense(64,activation=\"relu\"),\n",
    "        BatchNormalization(),\n",
    "        Dropout(0.3),\n",
    "        Dense(3,activation=\"sigmoid\")\n",
    "    ])\n",
    "opt = tf.keras.optimizers.Adam(learning_rate=0.001)\n",
    "METRICS = [\n",
    "        'accuracy',\n",
    "        tf.keras.metrics.Precision(name='precision'),\n",
    "        tf.keras.metrics.Recall(name='recall')\n",
    "    ]\n",
    "resnet_model.compile(optimizer=opt,loss='binary_crossentropy',metrics=METRICS)"
   ]
  },
  {
   "cell_type": "code",
   "execution_count": 23,
   "metadata": {},
   "outputs": [],
   "source": [
    "r = resnet_model.fit(\n",
    "   train, \n",
    "    epochs=30,\n",
    "    validation_data=test, \n",
    "    # class_weight=class_weight\n",
    "    steps_per_epoch=300)\n"
   ]
  },
  {
   "cell_type": "code",
   "execution_count": null,
   "metadata": {},
   "outputs": [],
   "source": [
    "plt.figure(figsize=(12, 8))\n",
    "\n",
    "plt.subplot(2, 2, 1)\n",
    "plt.plot(r.history['loss'], label='Loss')\n",
    "plt.plot(r.history['val_loss'], label='Val_Loss')\n",
    "plt.legend()\n",
    "plt.title('Loss Evolution')\n",
    "\n",
    "plt.subplot(2, 2, 2)\n",
    "plt.plot(r.history['accuracy'], label='Accuracy')\n",
    "plt.plot(r.history['val_accuracy'], label='Val_Accuracy')\n",
    "plt.legend()\n",
    "plt.title('Accuracy Evolution')"
   ]
  },
  {
   "cell_type": "code",
   "execution_count": null,
   "metadata": {},
   "outputs": [],
   "source": [
    "evaluation =resnet_model.evaluate(test)\n",
    "print(f\"Test Accuracy: {evaluation[1] * 100:.2f}%\")\n",
    "\n",
    "evaluation = resnet_model.evaluate(train)\n",
    "print(f\"Train Accuracy: {evaluation[1] * 100:.2f}%\")"
   ]
  },
  {
   "cell_type": "code",
   "execution_count": null,
   "metadata": {},
   "outputs": [],
   "source": [
    "model.save('resnet.h5')"
   ]
  }
 ],
 "metadata": {
  "interpreter": {
   "hash": "5d87b42201e74ac320bc00dce267d44f5f134edfec9046f67f672f289707ff6a"
  },
  "kernelspec": {
   "display_name": "Python 3.7.9 64-bit",
   "language": "python",
   "name": "python3"
  },
  "language_info": {
   "codemirror_mode": {
    "name": "ipython",
    "version": 3
   },
   "file_extension": ".py",
   "mimetype": "text/x-python",
   "name": "python",
   "nbconvert_exporter": "python",
   "pygments_lexer": "ipython3",
   "version": "3.7.9"
  },
  "orig_nbformat": 4
 },
 "nbformat": 4,
 "nbformat_minor": 2
}
